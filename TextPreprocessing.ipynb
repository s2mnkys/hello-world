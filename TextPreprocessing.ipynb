{
 "cells": [
  {
   "cell_type": "markdown",
   "metadata": {},
   "source": [
    "# 텍스트 전처리(Text Preprocessing)"
   ]
  },
  {
   "cell_type": "markdown",
   "metadata": {},
   "source": [
    "## 토큰화(Tokenization)"
   ]
  },
  {
   "cell_type": "markdown",
   "metadata": {},
   "source": [
    ": 코퍼스(Corpus)에서 토큰(token) 단위로 나누는 작업"
   ]
  },
  {
   "cell_type": "code",
   "execution_count": 1,
   "metadata": {},
   "outputs": [],
   "source": [
    "import nltk"
   ]
  },
  {
   "cell_type": "code",
   "execution_count": null,
   "metadata": {},
   "outputs": [],
   "source": [
    "nltk.download()"
   ]
  },
  {
   "cell_type": "code",
   "execution_count": 10,
   "metadata": {},
   "outputs": [
    {
     "data": {
      "text/plain": [
       "['Good',\n",
       " 'morning',\n",
       " ',',\n",
       " 'ladies',\n",
       " 'and',\n",
       " 'gents',\n",
       " '!',\n",
       " 'Let',\n",
       " \"'s\",\n",
       " 'talk',\n",
       " 'about',\n",
       " 'China',\n",
       " \"'s\",\n",
       " 'Five-Year',\n",
       " 'Plan',\n",
       " 'today',\n",
       " '.']"
      ]
     },
     "execution_count": 10,
     "metadata": {},
     "output_type": "execute_result"
    }
   ],
   "source": [
    "from nltk.tokenize import word_tokenize\n",
    "word_tokenize(\"Good morning, ladies and gents! Let's talk about China's Five-Year Plan today.\")"
   ]
  },
  {
   "cell_type": "code",
   "execution_count": 9,
   "metadata": {},
   "outputs": [
    {
     "data": {
      "text/plain": [
       "['Good',\n",
       " 'morning',\n",
       " ',',\n",
       " 'ladies',\n",
       " 'and',\n",
       " 'gents',\n",
       " '!',\n",
       " 'Let',\n",
       " \"'\",\n",
       " 's',\n",
       " 'talk',\n",
       " 'about',\n",
       " 'China',\n",
       " \"'\",\n",
       " 's',\n",
       " 'Five',\n",
       " '-',\n",
       " 'Year',\n",
       " 'Plan',\n",
       " 'today',\n",
       " '.']"
      ]
     },
     "execution_count": 9,
     "metadata": {},
     "output_type": "execute_result"
    }
   ],
   "source": [
    "from nltk.tokenize import WordPunctTokenizer\n",
    "WordPunctTokenizer().tokenize(\"Good morning, ladies and gents! Let's talk about China's Five-Year Plan today.\")"
   ]
  },
  {
   "cell_type": "code",
   "execution_count": 8,
   "metadata": {},
   "outputs": [
    {
     "data": {
      "text/plain": [
       "['Good',\n",
       " 'morning',\n",
       " ',',\n",
       " 'ladies',\n",
       " 'and',\n",
       " 'gents',\n",
       " '!',\n",
       " 'Let',\n",
       " \"'s\",\n",
       " 'talk',\n",
       " 'about',\n",
       " 'China',\n",
       " \"'s\",\n",
       " 'Five-Year',\n",
       " 'Plan',\n",
       " 'today',\n",
       " '.']"
      ]
     },
     "execution_count": 8,
     "metadata": {},
     "output_type": "execute_result"
    }
   ],
   "source": [
    "from nltk.tokenize import TreebankWordTokenizer\n",
    "TreebankWordTokenizer().tokenize(\"Good morning, ladies and gents! Let's talk about China's Five-Year Plan today.\")"
   ]
  },
  {
   "cell_type": "code",
   "execution_count": 11,
   "metadata": {},
   "outputs": [
    {
     "data": {
      "text/plain": [
       "['Good morning, ladies and gents!',\n",
       " \"Let's talk about China's Five-Year Plan today.\"]"
      ]
     },
     "execution_count": 11,
     "metadata": {},
     "output_type": "execute_result"
    }
   ],
   "source": [
    "from nltk.tokenize import sent_tokenize\n",
    "text = \"Good morning, ladies and gents! Let's talk about China's Five-Year Plan today.\"\n",
    "sent_tokenize(text)"
   ]
  },
  {
   "cell_type": "code",
   "execution_count": null,
   "metadata": {},
   "outputs": [],
   "source": []
  }
 ],
 "metadata": {
  "kernelspec": {
   "display_name": "Python 3",
   "language": "python",
   "name": "python3"
  },
  "language_info": {
   "codemirror_mode": {
    "name": "ipython",
    "version": 3
   },
   "file_extension": ".py",
   "mimetype": "text/x-python",
   "name": "python",
   "nbconvert_exporter": "python",
   "pygments_lexer": "ipython3",
   "version": "3.7.3"
  }
 },
 "nbformat": 4,
 "nbformat_minor": 2
}
